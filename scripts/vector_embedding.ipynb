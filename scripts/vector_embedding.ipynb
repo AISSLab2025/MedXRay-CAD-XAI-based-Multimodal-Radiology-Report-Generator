{
 "cells": [
  {
   "cell_type": "code",
   "execution_count": null,
   "id": "f55ba8eb-83b5-45fb-9696-d5c1baa0f660",
   "metadata": {},
   "outputs": [],
   "source": [
    "import re\n",
    "import os\n",
    "from langchain.embeddings import OllamaEmbeddings\n",
    "from langchain.vectorstores import Chroma\n",
    "from langchain.document_loaders import TextLoader\n",
    "from langchain.vectorstores import Chroma\n",
    "from langchain.document_loaders import TextLoader, DirectoryLoader\n",
    "from langchain.schema import Document\n",
    "import uuid"
   ]
  },
  {
   "cell_type": "code",
   "execution_count": null,
   "id": "72d9cc3f-4ced-43a7-b052-42908fa6f4af",
   "metadata": {},
   "outputs": [],
   "source": [
    "# Load documents\n",
    "loader = DirectoryLoader(\"path_to_directory\", glob=\"./*.txt\", loader_cls=TextLoader, show_progress=True)\n",
    "documents = loader.load()"
   ]
  },
  {
   "cell_type": "code",
   "execution_count": null,
   "id": "d081d231-9d20-43e7-a228-db9b99155b60",
   "metadata": {},
   "outputs": [],
   "source": [
    "# Define the embedding model\n",
    "oembed = OllamaEmbeddings(model=\"mxbai-embed-large\")"
   ]
  },
  {
   "cell_type": "code",
   "execution_count": null,
   "id": "140fe0b9-3261-498e-b343-143ddcf34be7",
   "metadata": {},
   "outputs": [],
   "source": [
    "# Create directory for persistence if it doesn't exist\n",
    "persist_directory = \"text_reports/all_embed_db\"\n",
    "os.makedirs(persist_directory, exist_ok=True)"
   ]
  },
  {
   "cell_type": "markdown",
   "id": "ae0dd5e2-fb89-4d5d-aaca-7fd2b077f58f",
   "metadata": {},
   "source": [
    "#### Step 1: Section-Based Preprocessing"
   ]
  },
  {
   "cell_type": "code",
   "execution_count": null,
   "id": "c93cbc91-5ec7-48ae-afad-22cdedfddf8c",
   "metadata": {},
   "outputs": [],
   "source": [
    "def identify_all_sections(reports):\n",
    "    all_sections = set()\n",
    "    section_pattern = re.compile(r'^([A-Z\\s]+):', re.MULTILINE)\n",
    "\n",
    "    for report in reports:\n",
    "        sections = section_pattern.findall(report)\n",
    "        all_sections.update(sections)\n",
    "\n",
    "    # Clean up section headers\n",
    "    cleaned_sections = [section.strip() for section in all_sections]\n",
    "    return sorted(cleaned_sections)\n",
    "    \n",
    "# Extract text from documents\n",
    "document_texts = [doc.page_content for doc in documents]\n",
    "\n",
    "# Identify sections\n",
    "all_sections = identify_all_sections(document_texts)\n",
    "print(\"All identified sections:\", all_sections)"
   ]
  },
  {
   "cell_type": "code",
   "execution_count": null,
   "id": "e8803ed8-e88f-4618-bf94-f9f09643392f",
   "metadata": {},
   "outputs": [],
   "source": [
    "def parse_report_sections(report_text):\n",
    "    sections = {\n",
    "        \"EXAMINATION\": \"\", \"INDICATION\": \"\", \"TECHNIQUE\": \"\", \n",
    "        \"COMPARISON\": \"\", \"FINDINGS\": \"\", \"IMPRESSION\": \"\", \n",
    "        \"HISTORY\": \"\"\n",
    "    }\n",
    "    \n",
    "    section_aliases = {\n",
    "        \"REASON FOR EXAMINATION\": \"INDICATION\",\n",
    "        \"CLINICAL HISTORY\": \"HISTORY\",\n",
    "        \"CLINICAL INDICATION\": \"INDICATION\",\n",
    "        \"ACS TECHNIQUE\": \"TECHNIQUE\",\n",
    "        \"AMS COMPARISON\": \"COMPARISON\",\n",
    "        \"CHF IMPRESSION\": \"IMPRESSION\",\n",
    "        \"FOLLOWUP IMPRESSION\": \"IMPRESSION\"\n",
    "    }\n",
    "    \n",
    "    current_section = None\n",
    "    \n",
    "    for line in report_text.splitlines():\n",
    "        line = line.strip()\n",
    "        header_match = re.match(\n",
    "            r\"(EXAMINATION|INDICATION|TECHNIQUE|COMPARISON|FINDINGS|IMPRESSION|HISTORY|REASON FOR EXAMINATION|CLINICAL HISTORY|CLINICAL INDICATION|ACS TECHNIQUE|AMS COMPARISON|CHF IMPRESSION|FOLLOWUP IMPRESSION):\\s*(.*)\",\n",
    "            line, re.IGNORECASE\n",
    "        )\n",
    "        \n",
    "        if header_match:\n",
    "            header = header_match.group(1).upper()\n",
    "            content = header_match.group(2).strip()\n",
    "            \n",
    "            if header in section_aliases:\n",
    "                header = section_aliases[header]\n",
    "            \n",
    "            current_section = header\n",
    "            sections[current_section] = content\n",
    "        elif current_section and line:\n",
    "            sections[current_section] += \" \" + line\n",
    "    \n",
    "    for section in sections:\n",
    "        sections[section] = sections[section].strip()\n",
    "    \n",
    "    return sections"
   ]
  },
  {
   "cell_type": "markdown",
   "id": "3c4665cc-0337-4e7d-895d-6d912aa9839a",
   "metadata": {},
   "source": [
    "#### Step 2: Embed Each Section Separately"
   ]
  },
  {
   "cell_type": "code",
   "execution_count": null,
   "id": "454dc169-633f-4fb6-8d2d-2db7c1935e66",
   "metadata": {},
   "outputs": [],
   "source": [
    "def create_embeddings_for_sections(sections, embed_model):\n",
    "    embeddings = {}\n",
    "    for section, text in sections.items():\n",
    "        if text.strip():  # Embed only if the section is not empty\n",
    "            embeddings[section] = embed_model.embed_query(text)\n",
    "    # print(f'embeddings: {embeddings}')\n",
    "    return embeddings"
   ]
  },
  {
   "cell_type": "markdown",
   "id": "b5cc70ef-919e-41c0-8b87-b9ec14148c77",
   "metadata": {},
   "source": [
    "#### Step 3: Document Loading and Storage"
   ]
  },
  {
   "cell_type": "code",
   "execution_count": null,
   "id": "eb79a3cd-731c-4c47-91f7-efaf1ecf3ae8",
   "metadata": {},
   "outputs": [],
   "source": [
    "def process_and_store_in_batches(documents, batch_size, embed_model, persist_directory):\n",
    "    num_batches = (len(documents) + batch_size - 1) // batch_size\n",
    "    vectordb = Chroma(persist_directory=persist_directory, embedding_function=embed_model)\n",
    "\n",
    "    for i in range(int(num_batches)):\n",
    "        print(f\"Processing batch {i + 1}/{int(num_batches)}\")\n",
    "        batch_docs = documents[i * batch_size:(i + 1) * batch_size]\n",
    "        \n",
    "        for doc in batch_docs:\n",
    "            case_id = str(uuid.uuid4())  # Generate a unique case ID\n",
    "            report_text = doc.page_content\n",
    "            sections = parse_report_sections(report_text)\n",
    "\n",
    "            for section, content in sections.items():\n",
    "                if content.strip():  # Only process non-empty sections\n",
    "                    metadata = {\"section\": section, \"case_id\": case_id}\n",
    "                    chroma_doc = Document(page_content=content, metadata=metadata)\n",
    "                    vectordb.add_documents([chroma_doc])\n",
    "\n",
    "        print(f\"Batch {i + 1}/{int(num_batches)} processed and persisted successfully.\")\n",
    "\n",
    "    vectordb.persist()"
   ]
  },
  {
   "cell_type": "code",
   "execution_count": null,
   "id": "37ef630a-9f4f-4962-a861-6b334d8d8f22",
   "metadata": {},
   "outputs": [],
   "source": [
    "batch_size = 10000\n",
    "process_and_store_in_batches(documents, batch_size, oembed, persist_directory)"
   ]
  }
 ],
 "metadata": {
  "kernelspec": {
   "display_name": "Python 3 (ipykernel)",
   "language": "python",
   "name": "python3"
  },
  "language_info": {
   "codemirror_mode": {
    "name": "ipython",
    "version": 3
   },
   "file_extension": ".py",
   "mimetype": "text/x-python",
   "name": "python",
   "nbconvert_exporter": "python",
   "pygments_lexer": "ipython3",
   "version": "3.11.7"
  }
 },
 "nbformat": 4,
 "nbformat_minor": 5
}
